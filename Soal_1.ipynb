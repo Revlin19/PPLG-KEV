{
  "nbformat": 4,
  "nbformat_minor": 0,
  "metadata": {
    "colab": {
      "provenance": [],
      "authorship_tag": "ABX9TyNxrWDS7kiQlr/ELZNwN9wY",
      "include_colab_link": true
    },
    "kernelspec": {
      "name": "python3",
      "display_name": "Python 3"
    },
    "language_info": {
      "name": "python"
    }
  },
  "cells": [
    {
      "cell_type": "markdown",
      "metadata": {
        "id": "view-in-github",
        "colab_type": "text"
      },
      "source": [
        "<a href=\"https://colab.research.google.com/github/Revlin19/PPLG-KEV/blob/main/Soal_1.ipynb\" target=\"_parent\"><img src=\"https://colab.research.google.com/assets/colab-badge.svg\" alt=\"Open In Colab\"/></a>"
      ]
    },
    {
      "cell_type": "markdown",
      "source": [
        "1.buatlah sebuah program untuk menentukan bilangan positif,bilangan negatif dan bilangan nol\n"
      ],
      "metadata": {
        "id": "z4Fof0IYJ9pH"
      }
    },
    {
      "cell_type": "code",
      "execution_count": 15,
      "metadata": {
        "colab": {
          "base_uri": "https://localhost:8080/"
        },
        "id": "ftuElD8EJ677",
        "outputId": "8c0b8ab8-4ccd-45a3-ed1c-dc5f9102d8ba"
      },
      "outputs": [
        {
          "output_type": "stream",
          "name": "stdout",
          "text": [
            "angka adalah Negatif\n"
          ]
        }
      ],
      "source": [
        "angka = \"-1\"\n",
        "if (angka == \"0\"):\n",
        "  print(\"angka adalah Netral\")\n",
        "elif (angka < \"0\"):\n",
        "  print(\"angka adalah Negatif\")\n",
        "else:\n",
        "  print(\"angka Positif\")"
      ]
    },
    {
      "cell_type": "markdown",
      "source": [
        "Dibawah ini adalah code dengan bahasa python untuk menentukan positif/negatif/netral sebuah angka\n",
        "\n",
        "```\n",
        "angka = \"-1\"\n",
        "if (angka == \"0\"):\n",
        "  print(\"angka adalah Netral\")\n",
        "elif (angka < \"0\"):\n",
        "  print(\"angka adalah Negatif\")\n",
        "else:\n",
        "  print(\"angka Positif\")\n",
        "  ```"
      ],
      "metadata": {
        "id": "wpIwxFidPeDn"
      }
    }
  ]
}