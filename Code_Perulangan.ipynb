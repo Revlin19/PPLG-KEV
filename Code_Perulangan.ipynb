{
  "nbformat": 4,
  "nbformat_minor": 0,
  "metadata": {
    "colab": {
      "provenance": [],
      "authorship_tag": "ABX9TyPk27qxd/fW5YmHTNfgsLg/",
      "include_colab_link": true
    },
    "kernelspec": {
      "name": "python3",
      "display_name": "Python 3"
    },
    "language_info": {
      "name": "python"
    }
  },
  "cells": [
    {
      "cell_type": "markdown",
      "metadata": {
        "id": "view-in-github",
        "colab_type": "text"
      },
      "source": [
        "<a href=\"https://colab.research.google.com/github/Revlin19/PPLG-KEV/blob/main/Perulangan.ipynb\" target=\"_parent\"><img src=\"https://colab.research.google.com/assets/colab-badge.svg\" alt=\"Open In Colab\"/></a>"
      ]
    },
    {
      "cell_type": "code",
      "execution_count": 8,
      "metadata": {
        "colab": {
          "base_uri": "https://localhost:8080/"
        },
        "id": "Lm-uHadKKxJH",
        "outputId": "6efe6231-44be-4f56-87b9-104e540fcb7c"
      },
      "outputs": [
        {
          "output_type": "stream",
          "name": "stdout",
          "text": [
            "Revlin\n",
            "Revlin\n",
            "Revlin\n",
            "Revlin\n",
            "Revlin\n",
            "Revlin\n",
            "Revlin\n",
            "Revlin\n",
            "Revlin\n",
            "Revlin\n",
            "Revlin\n",
            "Revlin\n",
            "Revlin\n",
            "Revlin\n",
            "Revlin\n",
            "Revlin\n",
            "Revlin\n",
            "Revlin\n",
            "Revlin\n",
            "Revlin\n",
            "Selesai\n",
            "Loop DI Dalam\n",
            "Loop DI Dalam\n",
            "Loop DI Luar\n",
            "Loop DI Dalam\n",
            "Loop DI Dalam\n",
            "Loop DI Luar\n",
            "Loop DI Dalam\n",
            "Loop DI Dalam\n",
            "Loop DI Luar\n",
            "angka 5\n",
            "angka 6\n",
            "angka 7\n",
            "angka 8\n",
            "angka 9\n"
          ]
        }
      ],
      "source": [
        "#Perulangan FOR\n",
        "for i in range(10):\n",
        "  print(\"Revlin\")\n",
        "\n",
        "for i in range(10):\n",
        "  print(\"Revlin\")\n",
        "\n",
        "else:\n",
        "  print(\"Selesai\")\n",
        "\n",
        "#Perulangan FOR didalam FOR\n",
        "for i in range(3):\n",
        "  for j in range(2):\n",
        "    print(\"Loop DI Dalam\")\n",
        "  print(\"Loop DI Luar\")\n",
        "\n",
        "#Perulangan WHILE\n",
        "i=5\n",
        "while i < 10:\n",
        "  print(\"angka\", i)\n",
        "  i +=1"
      ]
    }
  ]
}
